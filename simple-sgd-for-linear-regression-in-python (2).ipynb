{
 "cells": [
  {
   "cell_type": "markdown",
   "metadata": {},
   "source": [
    "# Custom SGD implementation for Linear Regression on Boston House dataset\n",
    "   ### Importing libraries\n",
    "   ### Data Loading and Preprocessing\n",
    "   ### Fixing Total Number of Iterations for 1. SKLearn SGD and 2. Custom SGD\n",
    "    \n",
    "   ## 1. SKLearn Implementation of SGD\n",
    "       1.1 Plot and MSE for the SK Learn SGD\n",
    "       1.2 Obtaining Weights from SKLearn SGD\n",
    "   ## 2. Custom Implementation Of SGD\n",
    "       . Setting custom parameters\n",
    "       2.1 Plot and MSE for the Custom SGD\n",
    "       2.2 Obtaining Weights from Custom SGD\n",
    "   ## 3. Improved Custom SGD\n",
    "       . Setting new custom parameters\n",
    "       3.1 Plot and MSE for the Custom SGD Improved\n",
    "       3.2 Obtaining Weights from Custom SGD Improved\n",
    "   ## Comparison\n",
    "   ## Conlusion\n",
    "   ## References\n",
    "   ----------------------------------------------"
   ]
  },
  {
   "cell_type": "markdown",
   "metadata": {},
   "source": [
    "## Importing libraries"
   ]
  },
  {
   "cell_type": "code",
   "execution_count": 1,
   "metadata": {
    "colab": {},
    "colab_type": "code",
    "id": "REYPoTJ1Af7u"
   },
   "outputs": [
    {
     "name": "stdout",
     "output_type": "stream",
     "text": [
      "DONE\n"
     ]
    }
   ],
   "source": [
    "import warnings\n",
    "warnings.filterwarnings(\"ignore\")\n",
    "from sklearn.datasets import load_boston\n",
    "from sklearn import preprocessing\n",
    "import pandas as pd\n",
    "import numpy as np\n",
    "import matplotlib.pyplot as plt\n",
    "from prettytable import PrettyTable\n",
    "from sklearn.linear_model import SGDRegressor\n",
    "from sklearn import preprocessing\n",
    "from sklearn.metrics import mean_squared_error\n",
    "from numpy import random\n",
    "from sklearn.model_selection import train_test_split\n",
    "print(\"DONE\")"
   ]
  },
  {
   "cell_type": "markdown",
   "metadata": {},
   "source": [
    "## Data Loading and Preprocessing:"
   ]
  },
  {
   "cell_type": "code",
   "execution_count": 2,
   "metadata": {
    "colab": {},
    "colab_type": "code",
    "id": "NTQ2iH-kAwbo"
   },
   "outputs": [],
   "source": [
    "boston_data=pd.DataFrame(load_boston().data,columns=load_boston().feature_names)\n",
    "Y=load_boston().target\n",
    "X=load_boston().data\n",
    "x_train,x_test,y_train,y_test=train_test_split(X,Y,test_size=0.3)"
   ]
  },
  {
   "cell_type": "code",
   "execution_count": 3,
   "metadata": {},
   "outputs": [
    {
     "data": {
      "text/html": [
       "<div>\n",
       "<style scoped>\n",
       "    .dataframe tbody tr th:only-of-type {\n",
       "        vertical-align: middle;\n",
       "    }\n",
       "\n",
       "    .dataframe tbody tr th {\n",
       "        vertical-align: top;\n",
       "    }\n",
       "\n",
       "    .dataframe thead th {\n",
       "        text-align: right;\n",
       "    }\n",
       "</style>\n",
       "<table border=\"1\" class=\"dataframe\">\n",
       "  <thead>\n",
       "    <tr style=\"text-align: right;\">\n",
       "      <th></th>\n",
       "      <th>CRIM</th>\n",
       "      <th>ZN</th>\n",
       "      <th>INDUS</th>\n",
       "      <th>CHAS</th>\n",
       "      <th>NOX</th>\n",
       "      <th>RM</th>\n",
       "      <th>AGE</th>\n",
       "      <th>DIS</th>\n",
       "      <th>RAD</th>\n",
       "      <th>TAX</th>\n",
       "      <th>PTRATIO</th>\n",
       "      <th>B</th>\n",
       "      <th>LSTAT</th>\n",
       "    </tr>\n",
       "  </thead>\n",
       "  <tbody>\n",
       "    <tr>\n",
       "      <th>0</th>\n",
       "      <td>0.00632</td>\n",
       "      <td>18.0</td>\n",
       "      <td>2.31</td>\n",
       "      <td>0.0</td>\n",
       "      <td>0.538</td>\n",
       "      <td>6.575</td>\n",
       "      <td>65.2</td>\n",
       "      <td>4.0900</td>\n",
       "      <td>1.0</td>\n",
       "      <td>296.0</td>\n",
       "      <td>15.3</td>\n",
       "      <td>396.90</td>\n",
       "      <td>4.98</td>\n",
       "    </tr>\n",
       "    <tr>\n",
       "      <th>1</th>\n",
       "      <td>0.02731</td>\n",
       "      <td>0.0</td>\n",
       "      <td>7.07</td>\n",
       "      <td>0.0</td>\n",
       "      <td>0.469</td>\n",
       "      <td>6.421</td>\n",
       "      <td>78.9</td>\n",
       "      <td>4.9671</td>\n",
       "      <td>2.0</td>\n",
       "      <td>242.0</td>\n",
       "      <td>17.8</td>\n",
       "      <td>396.90</td>\n",
       "      <td>9.14</td>\n",
       "    </tr>\n",
       "    <tr>\n",
       "      <th>2</th>\n",
       "      <td>0.02729</td>\n",
       "      <td>0.0</td>\n",
       "      <td>7.07</td>\n",
       "      <td>0.0</td>\n",
       "      <td>0.469</td>\n",
       "      <td>7.185</td>\n",
       "      <td>61.1</td>\n",
       "      <td>4.9671</td>\n",
       "      <td>2.0</td>\n",
       "      <td>242.0</td>\n",
       "      <td>17.8</td>\n",
       "      <td>392.83</td>\n",
       "      <td>4.03</td>\n",
       "    </tr>\n",
       "  </tbody>\n",
       "</table>\n",
       "</div>"
      ],
      "text/plain": [
       "      CRIM    ZN  INDUS  CHAS    NOX     RM   AGE     DIS  RAD    TAX  \\\n",
       "0  0.00632  18.0   2.31   0.0  0.538  6.575  65.2  4.0900  1.0  296.0   \n",
       "1  0.02731   0.0   7.07   0.0  0.469  6.421  78.9  4.9671  2.0  242.0   \n",
       "2  0.02729   0.0   7.07   0.0  0.469  7.185  61.1  4.9671  2.0  242.0   \n",
       "\n",
       "   PTRATIO       B  LSTAT  \n",
       "0     15.3  396.90   4.98  \n",
       "1     17.8  396.90   9.14  \n",
       "2     17.8  392.83   4.03  "
      ]
     },
     "execution_count": 3,
     "metadata": {},
     "output_type": "execute_result"
    }
   ],
   "source": [
    "# data overview\n",
    "boston_data.head(3)"
   ]
  },
  {
   "cell_type": "code",
   "execution_count": 4,
   "metadata": {},
   "outputs": [
    {
     "name": "stdout",
     "output_type": "stream",
     "text": [
      "(506, 13)\n",
      "(506,)\n",
      "(354, 13)\n",
      "(152, 13)\n",
      "(354,)\n",
      "(152,)\n"
     ]
    }
   ],
   "source": [
    "print(X.shape)\n",
    "print(Y.shape)\n",
    "print(x_train.shape)\n",
    "print(x_test.shape)\n",
    "print(y_train.shape)\n",
    "print(y_test.shape)"
   ]
  },
  {
   "cell_type": "code",
   "execution_count": 5,
   "metadata": {},
   "outputs": [
    {
     "data": {
      "text/plain": [
       "array([[6.14700e-01, 0.00000e+00, 6.20000e+00, ..., 1.74000e+01,\n",
       "        3.96900e+02, 7.60000e+00],\n",
       "       [9.91655e+00, 0.00000e+00, 1.81000e+01, ..., 2.02000e+01,\n",
       "        3.38160e+02, 2.99700e+01],\n",
       "       [1.68118e+01, 0.00000e+00, 1.81000e+01, ..., 2.02000e+01,\n",
       "        3.96900e+02, 3.08100e+01],\n",
       "       ...,\n",
       "       [1.53800e-02, 9.00000e+01, 3.75000e+00, ..., 1.59000e+01,\n",
       "        3.86340e+02, 3.11000e+00],\n",
       "       [2.76300e-02, 7.50000e+01, 2.95000e+00, ..., 1.83000e+01,\n",
       "        3.95630e+02, 4.32000e+00],\n",
       "       [1.10270e-01, 2.50000e+01, 5.13000e+00, ..., 1.97000e+01,\n",
       "        3.96900e+02, 6.73000e+00]])"
      ]
     },
     "execution_count": 5,
     "metadata": {},
     "output_type": "execute_result"
    }
   ],
   "source": [
    "## Before standardizing data\n",
    "x_train"
   ]
  },
  {
   "cell_type": "code",
   "execution_count": 6,
   "metadata": {
    "colab": {},
    "colab_type": "code",
    "id": "FgUW39s6Be0U"
   },
   "outputs": [],
   "source": [
    "# standardizing data\n",
    "scaler = preprocessing.StandardScaler().fit(x_train)\n",
    "x_train = scaler.transform(x_train)\n",
    "x_test=scaler.transform(x_test)"
   ]
  },
  {
   "cell_type": "code",
   "execution_count": 7,
   "metadata": {},
   "outputs": [
    {
     "data": {
      "text/plain": [
       "array([[-0.34619553, -0.48245184, -0.69898653, ..., -0.47534613,\n",
       "         0.42465313, -0.70738157],\n",
       "       [ 1.17796839, -0.48245184,  1.04744336, ...,  0.81304075,\n",
       "        -0.23695062,  2.51330519],\n",
       "       [ 2.30779645, -0.48245184,  1.04744336, ...,  0.81304075,\n",
       "         0.42465313,  2.63424291],\n",
       "       ...,\n",
       "       [-0.4443977 ,  3.28862659, -1.05854562, ..., -1.16555338,\n",
       "         0.30571313, -1.35382249],\n",
       "       [-0.44239047,  2.66011351, -1.17595267, ..., -0.06122177,\n",
       "         0.4103488 , -1.17961458],\n",
       "       [-0.42884941,  0.56506994, -0.85601846, ...,  0.58297166,\n",
       "         0.42465313, -0.83263849]])"
      ]
     },
     "execution_count": 7,
     "metadata": {},
     "output_type": "execute_result"
    }
   ],
   "source": [
    "## After standardizing data\n",
    "x_train"
   ]
  },
  {
   "cell_type": "code",
   "execution_count": 8,
   "metadata": {},
   "outputs": [
    {
     "data": {
      "text/plain": [
       "array([[-0.44282468, -0.48245184, -1.33151702, ..., -1.16555338,\n",
       "         0.34648612, -0.55620941],\n",
       "       [-0.32398321, -0.48245184, -0.41427443, ...,  1.18115128,\n",
       "         0.39570656,  0.54518771],\n",
       "       [ 0.99372379, -0.48245184,  1.04744336, ...,  0.81304075,\n",
       "        -4.00462296,  0.66900491],\n",
       "       ...,\n",
       "       [-0.35841754,  0.35556559, -1.02625868, ..., -2.49995407,\n",
       "         0.37847378, -0.42087434],\n",
       "       [-0.43665551, -0.48245184,  0.14194148, ...,  1.18115128,\n",
       "         0.36935054, -0.40935646],\n",
       "       [-0.44355057,  3.07912223, -1.50028965, ..., -0.52135994,\n",
       "         0.42465313, -0.97085304]])"
      ]
     },
     "execution_count": 8,
     "metadata": {},
     "output_type": "execute_result"
    }
   ],
   "source": [
    "x_test"
   ]
  },
  {
   "cell_type": "code",
   "execution_count": 9,
   "metadata": {},
   "outputs": [
    {
     "data": {
      "text/html": [
       "<div>\n",
       "<style scoped>\n",
       "    .dataframe tbody tr th:only-of-type {\n",
       "        vertical-align: middle;\n",
       "    }\n",
       "\n",
       "    .dataframe tbody tr th {\n",
       "        vertical-align: top;\n",
       "    }\n",
       "\n",
       "    .dataframe thead th {\n",
       "        text-align: right;\n",
       "    }\n",
       "</style>\n",
       "<table border=\"1\" class=\"dataframe\">\n",
       "  <thead>\n",
       "    <tr style=\"text-align: right;\">\n",
       "      <th></th>\n",
       "      <th>0</th>\n",
       "      <th>1</th>\n",
       "      <th>2</th>\n",
       "      <th>3</th>\n",
       "      <th>4</th>\n",
       "      <th>5</th>\n",
       "      <th>6</th>\n",
       "      <th>7</th>\n",
       "      <th>8</th>\n",
       "      <th>9</th>\n",
       "      <th>10</th>\n",
       "      <th>11</th>\n",
       "      <th>12</th>\n",
       "      <th>price</th>\n",
       "    </tr>\n",
       "  </thead>\n",
       "  <tbody>\n",
       "    <tr>\n",
       "      <th>0</th>\n",
       "      <td>-0.346196</td>\n",
       "      <td>-0.482452</td>\n",
       "      <td>-0.698987</td>\n",
       "      <td>-0.287348</td>\n",
       "      <td>-0.386734</td>\n",
       "      <td>0.447534</td>\n",
       "      <td>0.446806</td>\n",
       "      <td>-0.271253</td>\n",
       "      <td>-0.103623</td>\n",
       "      <td>-0.562557</td>\n",
       "      <td>-0.475346</td>\n",
       "      <td>0.424653</td>\n",
       "      <td>-0.707382</td>\n",
       "      <td>30.1</td>\n",
       "    </tr>\n",
       "    <tr>\n",
       "      <th>1</th>\n",
       "      <td>1.177968</td>\n",
       "      <td>-0.482452</td>\n",
       "      <td>1.047443</td>\n",
       "      <td>-0.287348</td>\n",
       "      <td>1.185920</td>\n",
       "      <td>-0.651687</td>\n",
       "      <td>0.338275</td>\n",
       "      <td>-1.112350</td>\n",
       "      <td>1.808173</td>\n",
       "      <td>1.667422</td>\n",
       "      <td>0.813041</td>\n",
       "      <td>-0.236951</td>\n",
       "      <td>2.513305</td>\n",
       "      <td>6.3</td>\n",
       "    </tr>\n",
       "    <tr>\n",
       "      <th>2</th>\n",
       "      <td>2.307796</td>\n",
       "      <td>-0.482452</td>\n",
       "      <td>1.047443</td>\n",
       "      <td>-0.287348</td>\n",
       "      <td>1.245106</td>\n",
       "      <td>-1.476821</td>\n",
       "      <td>1.072667</td>\n",
       "      <td>-1.147623</td>\n",
       "      <td>1.808173</td>\n",
       "      <td>1.667422</td>\n",
       "      <td>0.813041</td>\n",
       "      <td>0.424653</td>\n",
       "      <td>2.634243</td>\n",
       "      <td>7.2</td>\n",
       "    </tr>\n",
       "  </tbody>\n",
       "</table>\n",
       "</div>"
      ],
      "text/plain": [
       "          0         1         2         3         4         5         6  \\\n",
       "0 -0.346196 -0.482452 -0.698987 -0.287348 -0.386734  0.447534  0.446806   \n",
       "1  1.177968 -0.482452  1.047443 -0.287348  1.185920 -0.651687  0.338275   \n",
       "2  2.307796 -0.482452  1.047443 -0.287348  1.245106 -1.476821  1.072667   \n",
       "\n",
       "          7         8         9        10        11        12  price  \n",
       "0 -0.271253 -0.103623 -0.562557 -0.475346  0.424653 -0.707382   30.1  \n",
       "1 -1.112350  1.808173  1.667422  0.813041 -0.236951  2.513305    6.3  \n",
       "2 -1.147623  1.808173  1.667422  0.813041  0.424653  2.634243    7.2  "
      ]
     },
     "execution_count": 9,
     "metadata": {},
     "output_type": "execute_result"
    }
   ],
   "source": [
    "## Adding the PRIZE Column in the data\n",
    "train_data=pd.DataFrame(x_train)\n",
    "train_data['price']=y_train\n",
    "train_data.head(3)"
   ]
  },
  {
   "cell_type": "code",
   "execution_count": 10,
   "metadata": {},
   "outputs": [],
   "source": [
    "x_test=np.array(x_test)\n",
    "y_test=np.array(y_test)"
   ]
  },
  {
   "cell_type": "code",
   "execution_count": 11,
   "metadata": {},
   "outputs": [
    {
     "data": {
      "text/plain": [
       "numpy.ndarray"
      ]
     },
     "execution_count": 11,
     "metadata": {},
     "output_type": "execute_result"
    }
   ],
   "source": [
    "type(x_test)"
   ]
  },
  {
   "cell_type": "markdown",
   "metadata": {},
   "source": [
    "## Fixing Total Number of Iterations for 1. SKLearn SGD and 2. Custom SGD"
   ]
  },
  {
   "cell_type": "code",
   "execution_count": 12,
   "metadata": {},
   "outputs": [],
   "source": [
    "n_iter=100"
   ]
  },
  {
   "cell_type": "code",
   "execution_count": null,
   "metadata": {},
   "outputs": [],
   "source": []
  },
  {
   "cell_type": "markdown",
   "metadata": {},
   "source": [
    "# 1. SKLearn Implementation of SGD"
   ]
  },
  {
   "cell_type": "code",
   "execution_count": 13,
   "metadata": {
    "colab": {
     "base_uri": "https://localhost:8080/",
     "height": 34
    },
    "colab_type": "code",
    "executionInfo": {
     "elapsed": 879,
     "status": "ok",
     "timestamp": 1545718892607,
     "user": {
      "displayName": "Applied AI Course",
      "photoUrl": "https://lh5.googleusercontent.com/-9_3A9F-kDXs/AAAAAAAAAAI/AAAAAAAAACw/IprjYvUuoXQ/s64/photo.jpg",
      "userId": "00484516897554883881"
     },
     "user_tz": -330
    },
    "id": "HNu1sXtEBBS2",
    "outputId": "a0c5d3d0-345c-4a34-8ccf-0d9f3d7d23fd"
   },
   "outputs": [
    {
     "data": {
      "image/png": "[encoded data removed]",
      "text/plain": [
       "<Figure size 432x288 with 1 Axes>"
      ]
     },
     "metadata": {
      "needs_background": "light"
     },
     "output_type": "display_data"
    }
   ],
   "source": [
    "# SkLearn SGD classifier\n",
    "clf_ = SGDRegressor(max_iter=n_iter)\n",
    "clf_.fit(x_train, y_train)\n",
    "y_pred_sksgd=clf_.predict(x_test)\n",
    "plt.scatter(y_test,y_pred_sksgd)\n",
    "plt.grid()\n",
    "plt.xlabel('Actual y')\n",
    "plt.ylabel('Predicted y')\n",
    "plt.title('Scatter plot from actual y and predicted y')\n",
    "plt.show()"
   ]
  },
  {
   "cell_type": "markdown",
   "metadata": {},
   "source": [
    "## 1.1 MSE for the SK Learn SGD"
   ]
  },
  {
   "cell_type": "code",
   "execution_count": 14,
   "metadata": {},
   "outputs": [
    {
     "name": "stdout",
     "output_type": "stream",
     "text": [
      "Mean Squared Error : 38.08992711452377\n"
     ]
    }
   ],
   "source": [
    "print('Mean Squared Error :',mean_squared_error(y_test, y_pred_sksgd))"
   ]
  },
  {
   "cell_type": "markdown",
   "metadata": {},
   "source": [
    "## 1.2 Obtaining Weights from SKLearn SGD"
   ]
  },
  {
   "cell_type": "code",
   "execution_count": 15,
   "metadata": {},
   "outputs": [
    {
     "data": {
      "text/plain": [
       "array([-0.19630281,  0.72485956,  0.16514879,  0.4395183 , -1.54621224,\n",
       "        3.88342501, -0.36805966, -2.4051181 ,  0.94102983, -1.28880663,\n",
       "       -1.98715573,  0.81344041, -2.43031913])"
      ]
     },
     "execution_count": 15,
     "metadata": {},
     "output_type": "execute_result"
    }
   ],
   "source": [
    "# SkLearn SGD classifier predicted weight matrix\n",
    "sklearn_w=clf_.coef_\n",
    "sklearn_w"
   ]
  },
  {
   "cell_type": "code",
   "execution_count": 16,
   "metadata": {},
   "outputs": [
    {
     "data": {
      "text/plain": [
       "numpy.ndarray"
      ]
     },
     "execution_count": 16,
     "metadata": {},
     "output_type": "execute_result"
    }
   ],
   "source": [
    "type(sklearn_w)"
   ]
  },
  {
   "cell_type": "markdown",
   "metadata": {},
   "source": [
    "# 2. Custom Implementation Of SGD"
   ]
  },
  {
   "cell_type": "code",
   "execution_count": 17,
   "metadata": {},
   "outputs": [],
   "source": [
    "def My2CustomSGD(train_data,learning_rate,n_iter,k,divideby):\n",
    "    w=np.zeros(shape=(1,train_data.shape[1]-1))\n",
    "    b=0\n",
    "    cur_iter=1\n",
    "    while(cur_iter<=n_iter): \n",
    "#         print(\"LR: \",learning_rate)\n",
    "        temp=train_data.sample(k)\n",
    "        #print(temp.head(3))\n",
    "        y=np.array(temp['price'])\n",
    "        x=np.array(temp.drop('price',axis=1))\n",
    "        w_gradient=np.zeros(shape=(1,train_data.shape[1]-1))\n",
    "        b_gradient=0\n",
    "        for i in range(k):\n",
    "            prediction=np.dot(w,x[i])+b\n",
    "#             w_gradient=w_gradient+(-2/k)*x[i]*(y[i]-(prediction))\n",
    "#             b_gradient=b_gradient+(-2/k)*(y[i]-(prediction))\n",
    "            w_gradient=w_gradient+(-2)*x[i]*(y[i]-(prediction))\n",
    "            b_gradient=b_gradient+(-2)*(y[i]-(prediction))\n",
    "        w=w-learning_rate*(w_gradient/k)\n",
    "        b=b-learning_rate*(b_gradient/k)\n",
    "        \n",
    "        cur_iter=cur_iter+1\n",
    "        learning_rate=learning_rate/divideby\n",
    "    return w,b"
   ]
  },
  {
   "cell_type": "code",
   "execution_count": 18,
   "metadata": {},
   "outputs": [],
   "source": [
    "def predict(x,w,b):\n",
    "    y_pred=[]\n",
    "    for i in range(len(x)):\n",
    "        y=np.asscalar(np.dot(w,x[i])+b)\n",
    "        y_pred.append(y)\n",
    "    return np.array(y_pred)"
   ]
  },
  {
   "cell_type": "markdown",
   "metadata": {},
   "source": [
    "## Setting custom parameters: As mentioned in the assignment video, the following parameters are set\n",
    "1. As mentioned Learning Rate=1 initially and will be divided by 2 over the Iterations\n",
    "2. As mentioned size of K is kept as k=10"
   ]
  },
  {
   "cell_type": "code",
   "execution_count": 19,
   "metadata": {},
   "outputs": [
    {
     "data": {
      "image/png": "[encoded data removed]",
      "text/plain": [
       "<Figure size 432x288 with 1 Axes>"
      ]
     },
     "metadata": {
      "needs_background": "light"
     },
     "output_type": "display_data"
    },
    {
     "name": "stdout",
     "output_type": "stream",
     "text": [
      "Mean Squared Error : 3085.7843896245045\n"
     ]
    }
   ],
   "source": [
    "w,b=My2CustomSGD(train_data,learning_rate=1,n_iter=100,divideby=2,k=10)\n",
    "y_pred_customsgd=predict(x_test,w,b)\n",
    "\n",
    "plt.scatter(y_test,y_pred_customsgd)\n",
    "plt.grid()\n",
    "plt.xlabel('Actual y')\n",
    "plt.ylabel('Predicted y')\n",
    "plt.title('Scatter plot from actual y and predicted y')\n",
    "plt.show()\n",
    "print('Mean Squared Error :',mean_squared_error(y_test, y_pred_customsgd))"
   ]
  },
  {
   "cell_type": "markdown",
   "metadata": {},
   "source": [
    "## 2.1 MSE for the Custom SGD"
   ]
  },
  {
   "cell_type": "code",
   "execution_count": 20,
   "metadata": {},
   "outputs": [
    {
     "name": "stdout",
     "output_type": "stream",
     "text": [
      "Mean Squared Error : 3085.7843896245045\n"
     ]
    }
   ],
   "source": [
    "print('Mean Squared Error :',mean_squared_error(y_test, y_pred_customsgd))"
   ]
  },
  {
   "cell_type": "markdown",
   "metadata": {},
   "source": [
    "## 2.2 Obtaining Weights from Custom SGD"
   ]
  },
  {
   "cell_type": "code",
   "execution_count": 21,
   "metadata": {},
   "outputs": [
    {
     "name": "stdout",
     "output_type": "stream",
     "text": [
      "[[ -0.34935233  17.4270328   -2.41475015 -29.21923043  27.50791757\n",
      "   -4.42459399   0.03227756   9.27777604   3.52228874   7.9093719\n",
      "  -29.96333047 -25.90654663  -3.34966326]]\n",
      "<class 'numpy.ndarray'>\n"
     ]
    }
   ],
   "source": [
    "# weight vector obtained from impemented SGD Classifier\n",
    "custom_w=w\n",
    "print(custom_w)\n",
    "print(type(custom_w))"
   ]
  },
  {
   "cell_type": "markdown",
   "metadata": {},
   "source": [
    "# 3. Improved SGD"
   ]
  },
  {
   "cell_type": "markdown",
   "metadata": {},
   "source": [
    "## Changes made in the following parameters to improve the result\n",
    "1. Learning Rate=0.01 initially and will not be divided by any number over the Iterations\n",
    "2. size of K is kept as k=10\n",
    "3. Iterations = 1000"
   ]
  },
  {
   "cell_type": "code",
   "execution_count": 22,
   "metadata": {},
   "outputs": [
    {
     "data": {
      "image/png": "[encoded data removed]",
      "text/plain": [
       "<Figure size 432x288 with 1 Axes>"
      ]
     },
     "metadata": {
      "needs_background": "light"
     },
     "output_type": "display_data"
    },
    {
     "name": "stdout",
     "output_type": "stream",
     "text": [
      "Mean Squared Error : 37.25145174243342\n"
     ]
    }
   ],
   "source": [
    "w,b=My2CustomSGD(train_data,learning_rate=0.01,n_iter=1000,divideby=1,k=10)\n",
    "y_pred_customsgd_improved=predict(x_test,w,b)\n",
    "\n",
    "plt.scatter(y_test,y_pred_customsgd_improved)\n",
    "plt.grid()\n",
    "plt.xlabel('Actual y')\n",
    "plt.ylabel('Predicted y')\n",
    "plt.title('Scatter plot from actual y and predicted y')\n",
    "plt.show()\n",
    "print('Mean Squared Error :',mean_squared_error(y_test, y_pred_customsgd_improved))"
   ]
  },
  {
   "cell_type": "markdown",
   "metadata": {},
   "source": [
    "## 3.1 MSE for the Custom SGD Improved"
   ]
  },
  {
   "cell_type": "code",
   "execution_count": 23,
   "metadata": {},
   "outputs": [
    {
     "name": "stdout",
     "output_type": "stream",
     "text": [
      "Mean Squared Error : 37.25145174243342\n"
     ]
    }
   ],
   "source": [
    "print('Mean Squared Error :',mean_squared_error(y_test, y_pred_customsgd_improved))"
   ]
  },
  {
   "cell_type": "markdown",
   "metadata": {},
   "source": [
    "## 3.2 Obtaining Weights from Custom SGD Improved"
   ]
  },
  {
   "cell_type": "code",
   "execution_count": 24,
   "metadata": {},
   "outputs": [
    {
     "name": "stdout",
     "output_type": "stream",
     "text": [
      "[[-0.27870658  0.88097128  0.30956892  0.59916513 -1.54451397  3.55844852\n",
      "  -0.24301574 -2.49201066  1.12726527 -1.62753122 -1.94845116  0.74327706\n",
      "  -2.26674382]]\n",
      "<class 'numpy.ndarray'>\n"
     ]
    }
   ],
   "source": [
    "# weight vector obtained from impemented SGD Classifier\n",
    "custom_w_improved=w\n",
    "print(custom_w_improved)\n",
    "print(type(custom_w_improved))"
   ]
  },
  {
   "cell_type": "markdown",
   "metadata": {},
   "source": [
    "#  Comparision "
   ]
  },
  {
   "cell_type": "code",
   "execution_count": 25,
   "metadata": {},
   "outputs": [
    {
     "name": "stdout",
     "output_type": "stream",
     "text": [
      "+---------------------+---------------------------------------------------------------------------+--------------------+\n",
      "|        Model        |                               Weight Vector                               |        MSE         |\n",
      "+---------------------+---------------------------------------------------------------------------+--------------------+\n",
      "|     SKLearn SGD     |  [-0.19630281  0.72485956  0.16514879  0.4395183  -1.54621224  3.88342501 | 38.08992711452377  |\n",
      "|                     |   -0.36805966 -2.4051181   0.94102983 -1.28880663 -1.98715573  0.81344041 |                    |\n",
      "|                     |                                -2.43031913]                               |                    |\n",
      "|      Custom SGD     |     [[ -0.34935233  17.4270328   -2.41475015 -29.21923043  27.50791757    | 3085.7843896245045 |\n",
      "|                     |        -4.42459399   0.03227756   9.27777604   3.52228874   7.9093719     |                    |\n",
      "|                     |                   -29.96333047 -25.90654663  -3.34966326]]                |                    |\n",
      "| Custom SGD Improved | [[-0.27870658  0.88097128  0.30956892  0.59916513 -1.54451397  3.55844852 | 37.25145174243342  |\n",
      "|                     |   -0.24301574 -2.49201066  1.12726527 -1.62753122 -1.94845116  0.74327706 |                    |\n",
      "|                     |                                -2.26674382]]                              |                    |\n",
      "+---------------------+---------------------------------------------------------------------------+--------------------+\n"
     ]
    }
   ],
   "source": [
    "###\n",
    "from prettytable import PrettyTable\n",
    "x=PrettyTable()\n",
    "x.field_names=['Model','Weight Vector','MSE']\n",
    "x.add_row(['SKLearn SGD',sklearn_w,mean_squared_error(y_test, y_pred_sksgd)])\n",
    "x.add_row(['Custom SGD',custom_w,mean_squared_error(y_test,y_pred_customsgd)])\n",
    "x.add_row(['Custom SGD Improved',custom_w_improved,mean_squared_error(y_test,y_pred_customsgd_improved)])\n",
    "print(x)"
   ]
  },
  {
   "cell_type": "markdown",
   "metadata": {},
   "source": [
    "## Conclusion\n",
    "1. We can see the our plain custom SGD performed very poor as compared to the SKLearn SGD.\n",
    "1. When we changed the learning rate and  Batch size, the our custom SGD performed as good as the SKLearn SGD"
   ]
  },
  {
   "cell_type": "markdown",
   "metadata": {},
   "source": [
    "## Reference"
   ]
  },
  {
   "cell_type": "markdown",
   "metadata": {},
   "source": [
    "[1] My Medium Blog: https://medium.com/@nikhilparmar9/simple-sgd-implementation-in-python-for-linear-regression-on-boston-housing-data-f63fcaaecfb1<br>\n",
    "[2]https://machinelearningmastery.com/implement-linear-regression-stochastic-gradient-descent-scratch-python/ <br>\n",
    "[3]https://www.kaggle.com/premvardhan/stocasticgradientdescent-implementation-lr-python <br>\n",
    "[4]https://www.kaggle.com/arpandas65/simple-sgd-implementation-of-linear-regression/notebook <br>\n",
    "[5]https://www.kaggle.com/tentotheminus9/linear-regression-from-scratch-gradient-descent<br>"
   ]
  }
 ],
 "metadata": {
  "colab": {
   "name": "Untitled3.ipynb",
   "provenance": [],
   "version": "0.3.2"
  },
  "kernelspec": {
   "display_name": "Python 3",
   "language": "python",
   "name": "python3"
  },
  "language_info": {
   "codemirror_mode": {
    "name": "ipython",
    "version": 3
   },
   "file_extension": ".py",
   "mimetype": "text/x-python",
   "name": "python",
   "nbconvert_exporter": "python",
   "pygments_lexer": "ipython3",
   "version": "3.6.6"
  }
 },
 "nbformat": 4,
 "nbformat_minor": 1
}
